{
 "cells": [
  {
   "cell_type": "code",
   "execution_count": 2,
   "metadata": {},
   "outputs": [
    {
     "ename": "TypeError",
     "evalue": "metaclass conflict: the metaclass of a derived class must be a (non-strict) subclass of the metaclasses of all its bases",
     "output_type": "error",
     "traceback": [
      "\u001b[1;31m---------------------------------------------------------------------------\u001b[0m",
      "\u001b[1;31mTypeError\u001b[0m                                 Traceback (most recent call last)",
      "\u001b[1;32mc:\\Users\\owner\\OneDrive\\デスクトップ\\bioinformatics\\Singlecell\\scVI.ipynb Cell 1\u001b[0m in \u001b[0;36m6\n\u001b[0;32m      <a href='vscode-notebook-cell:/c%3A/Users/owner/OneDrive/%E3%83%87%E3%82%B9%E3%82%AF%E3%83%88%E3%83%83%E3%83%97/bioinformatics/Singlecell/scVI.ipynb#W0sZmlsZQ%3D%3D?line=3'>4</a>\u001b[0m \u001b[39mimport\u001b[39;00m \u001b[39mmatplotlib\u001b[39;00m\n\u001b[0;32m      <a href='vscode-notebook-cell:/c%3A/Users/owner/OneDrive/%E3%83%87%E3%82%B9%E3%82%AF%E3%83%88%E3%83%83%E3%83%97/bioinformatics/Singlecell/scVI.ipynb#W0sZmlsZQ%3D%3D?line=4'>5</a>\u001b[0m \u001b[39mimport\u001b[39;00m \u001b[39mmatplotlib\u001b[39;00m\u001b[39m.\u001b[39;00m\u001b[39mpyplot\u001b[39;00m \u001b[39mas\u001b[39;00m \u001b[39mplt\u001b[39;00m\n\u001b[1;32m----> <a href='vscode-notebook-cell:/c%3A/Users/owner/OneDrive/%E3%83%87%E3%82%B9%E3%82%AF%E3%83%88%E3%83%83%E3%83%97/bioinformatics/Singlecell/scVI.ipynb#W0sZmlsZQ%3D%3D?line=5'>6</a>\u001b[0m \u001b[39mimport\u001b[39;00m \u001b[39mscanpy\u001b[39;00m \u001b[39mas\u001b[39;00m \u001b[39msc\u001b[39;00m\n\u001b[0;32m      <a href='vscode-notebook-cell:/c%3A/Users/owner/OneDrive/%E3%83%87%E3%82%B9%E3%82%AF%E3%83%88%E3%83%83%E3%83%97/bioinformatics/Singlecell/scVI.ipynb#W0sZmlsZQ%3D%3D?line=6'>7</a>\u001b[0m \u001b[39mimport\u001b[39;00m \u001b[39mtorch\u001b[39;00m\n\u001b[0;32m      <a href='vscode-notebook-cell:/c%3A/Users/owner/OneDrive/%E3%83%87%E3%82%B9%E3%82%AF%E3%83%88%E3%83%83%E3%83%97/bioinformatics/Singlecell/scVI.ipynb#W0sZmlsZQ%3D%3D?line=7'>8</a>\u001b[0m \u001b[39mimport\u001b[39;00m \u001b[39mtorch\u001b[39;00m\u001b[39m.\u001b[39;00m\u001b[39mnn\u001b[39;00m \u001b[39mas\u001b[39;00m \u001b[39mnn\u001b[39;00m\n",
      "File \u001b[1;32mc:\\Users\\owner\\.virtualenvs\\bioinformatics-abR04bHa\\lib\\site-packages\\scanpy\\__init__.py:16\u001b[0m\n\u001b[0;32m     14\u001b[0m \u001b[39mfrom\u001b[39;00m \u001b[39m.\u001b[39;00m \u001b[39mimport\u001b[39;00m tools \u001b[39mas\u001b[39;00m tl\n\u001b[0;32m     15\u001b[0m \u001b[39mfrom\u001b[39;00m \u001b[39m.\u001b[39;00m \u001b[39mimport\u001b[39;00m preprocessing \u001b[39mas\u001b[39;00m pp\n\u001b[1;32m---> 16\u001b[0m \u001b[39mfrom\u001b[39;00m \u001b[39m.\u001b[39;00m \u001b[39mimport\u001b[39;00m plotting \u001b[39mas\u001b[39;00m pl\n\u001b[0;32m     17\u001b[0m \u001b[39mfrom\u001b[39;00m \u001b[39m.\u001b[39;00m \u001b[39mimport\u001b[39;00m datasets, logging, queries, external, get, metrics\n\u001b[0;32m     19\u001b[0m \u001b[39mfrom\u001b[39;00m \u001b[39manndata\u001b[39;00m \u001b[39mimport\u001b[39;00m AnnData, concat\n",
      "File \u001b[1;32mc:\\Users\\owner\\.virtualenvs\\bioinformatics-abR04bHa\\lib\\site-packages\\scanpy\\plotting\\__init__.py:1\u001b[0m\n\u001b[1;32m----> 1\u001b[0m \u001b[39mfrom\u001b[39;00m \u001b[39m.\u001b[39;00m\u001b[39m_anndata\u001b[39;00m \u001b[39mimport\u001b[39;00m (\n\u001b[0;32m      2\u001b[0m     scatter,\n\u001b[0;32m      3\u001b[0m     violin,\n\u001b[0;32m      4\u001b[0m     ranking,\n\u001b[0;32m      5\u001b[0m     clustermap,\n\u001b[0;32m      6\u001b[0m     tracksplot,\n\u001b[0;32m      7\u001b[0m     dendrogram,\n\u001b[0;32m      8\u001b[0m     correlation_matrix,\n\u001b[0;32m      9\u001b[0m     heatmap,\n\u001b[0;32m     10\u001b[0m )\n\u001b[0;32m     11\u001b[0m \u001b[39mfrom\u001b[39;00m \u001b[39m.\u001b[39;00m\u001b[39m_dotplot\u001b[39;00m \u001b[39mimport\u001b[39;00m DotPlot, dotplot\n\u001b[0;32m     12\u001b[0m \u001b[39mfrom\u001b[39;00m \u001b[39m.\u001b[39;00m\u001b[39m_matrixplot\u001b[39;00m \u001b[39mimport\u001b[39;00m MatrixPlot, matrixplot\n",
      "File \u001b[1;32mc:\\Users\\owner\\.virtualenvs\\bioinformatics-abR04bHa\\lib\\site-packages\\scanpy\\plotting\\_anndata.py:28\u001b[0m\n\u001b[0;32m     26\u001b[0m \u001b[39mfrom\u001b[39;00m \u001b[39m.\u001b[39;00m\u001b[39m.\u001b[39;00m\u001b[39m_utils\u001b[39;00m \u001b[39mimport\u001b[39;00m sanitize_anndata, _doc_params, _check_use_raw\n\u001b[0;32m     27\u001b[0m \u001b[39mfrom\u001b[39;00m \u001b[39m.\u001b[39;00m\u001b[39m.\u001b[39;00m\u001b[39m_compat\u001b[39;00m \u001b[39mimport\u001b[39;00m Literal\n\u001b[1;32m---> 28\u001b[0m \u001b[39mfrom\u001b[39;00m \u001b[39m.\u001b[39;00m \u001b[39mimport\u001b[39;00m _utils\n\u001b[0;32m     29\u001b[0m \u001b[39mfrom\u001b[39;00m \u001b[39m.\u001b[39;00m\u001b[39m_utils\u001b[39;00m \u001b[39mimport\u001b[39;00m scatter_base, scatter_group, setup_axes, check_colornorm\n\u001b[0;32m     30\u001b[0m \u001b[39mfrom\u001b[39;00m \u001b[39m.\u001b[39;00m\u001b[39m_utils\u001b[39;00m \u001b[39mimport\u001b[39;00m ColorLike, _FontWeight, _FontSize\n",
      "File \u001b[1;32mc:\\Users\\owner\\.virtualenvs\\bioinformatics-abR04bHa\\lib\\site-packages\\scanpy\\plotting\\_utils.py:35\u001b[0m\n\u001b[0;32m     29\u001b[0m _FontSize \u001b[39m=\u001b[39m Literal[\n\u001b[0;32m     30\u001b[0m     \u001b[39m'\u001b[39m\u001b[39mxx-small\u001b[39m\u001b[39m'\u001b[39m, \u001b[39m'\u001b[39m\u001b[39mx-small\u001b[39m\u001b[39m'\u001b[39m, \u001b[39m'\u001b[39m\u001b[39msmall\u001b[39m\u001b[39m'\u001b[39m, \u001b[39m'\u001b[39m\u001b[39mmedium\u001b[39m\u001b[39m'\u001b[39m, \u001b[39m'\u001b[39m\u001b[39mlarge\u001b[39m\u001b[39m'\u001b[39m, \u001b[39m'\u001b[39m\u001b[39mx-large\u001b[39m\u001b[39m'\u001b[39m, \u001b[39m'\u001b[39m\u001b[39mxx-large\u001b[39m\u001b[39m'\u001b[39m\n\u001b[0;32m     31\u001b[0m ]\n\u001b[0;32m     32\u001b[0m VBound \u001b[39m=\u001b[39m Union[\u001b[39mstr\u001b[39m, \u001b[39mfloat\u001b[39m, Callable[[Sequence[\u001b[39mfloat\u001b[39m]], \u001b[39mfloat\u001b[39m]]\n\u001b[1;32m---> 35\u001b[0m \u001b[39mclass\u001b[39;00m \u001b[39m_AxesSubplot\u001b[39;00m(Axes, axes\u001b[39m.\u001b[39mSubplotBase, ABC):\n\u001b[0;32m     36\u001b[0m     \u001b[39m\"\"\"Intersection between Axes and SubplotBase: Has methods of both\"\"\"\u001b[39;00m\n\u001b[0;32m     39\u001b[0m \u001b[39m# -------------------------------------------------------------------------------\u001b[39;00m\n\u001b[0;32m     40\u001b[0m \u001b[39m# Simple plotting functions\u001b[39;00m\n\u001b[0;32m     41\u001b[0m \u001b[39m# -------------------------------------------------------------------------------\u001b[39;00m\n",
      "\u001b[1;31mTypeError\u001b[0m: metaclass conflict: the metaclass of a derived class must be a (non-strict) subclass of the metaclasses of all its bases"
     ]
    }
   ],
   "source": [
    "\n",
    "\n",
    "\n",
    "\n",
    "\n",
    "\n",
    "\n",
    "\n",
    "\n",
    "\n",
    "\n",
    "\n",
    "\n",
    "\n",
    "\n",
    "\n",
    "\n",
    "\n",
    "\n",
    "\n",
    "\n",
    "\n",
    "\n",
    "\n",
    "\n"
   ]
  }
 ],
 "metadata": {
  "kernelspec": {
   "display_name": "bioinformatics-abR04bHa",
   "language": "python",
   "name": "python3"
  },
  "language_info": {
   "codemirror_mode": {
    "name": "ipython",
    "version": 3
   },
   "file_extension": ".py",
   "mimetype": "text/x-python",
   "name": "python",
   "nbconvert_exporter": "python",
   "pygments_lexer": "ipython3",
   "version": "3.10.2"
  },
  "orig_nbformat": 4
 },
 "nbformat": 4,
 "nbformat_minor": 2
}
