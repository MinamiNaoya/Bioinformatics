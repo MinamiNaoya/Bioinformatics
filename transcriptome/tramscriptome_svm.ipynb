{
 "cells": [
  {
   "cell_type": "code",
   "execution_count": 1,
   "metadata": {},
   "outputs": [],
   "source": [
    "%matplotlib inline\n",
    "import matplotlib\n",
    "import matplotlib.pyplot as plt\n",
    "import numpy as np\n",
    "import optuna\n",
    "import pandas as pd\n",
    "import seaborn as sns\n",
    "import sklearn "
   ]
  },
  {
   "cell_type": "code",
   "execution_count": 2,
   "metadata": {},
   "outputs": [
    {
     "name": "stdout",
     "output_type": "stream",
     "text": [
      "numpy:  1.23.5\n",
      "pandas:  1.5.2\n",
      "matplotlib:  <module 'matplotlib._version' from 'C:\\\\Users\\\\owner\\\\appdata\\\\roaming\\\\python\\\\python310\\\\site-packages\\\\matplotlib\\\\_version.py'>\n",
      "sklearn:  1.1.3\n",
      "seaborn:  0.12.1\n",
      "optuna:  3.1.1\n"
     ]
    }
   ],
   "source": [
    "print('numpy: ', np.__version__)\n",
    "print('pandas: ', pd.__version__)\n",
    "print('matplotlib: ', matplotlib._version)\n",
    "print('sklearn: ', sklearn.__version__)\n",
    "print('seaborn: ', sns.__version__)\n",
    "print('optuna: ', optuna.__version__)\n"
   ]
  },
  {
   "cell_type": "code",
   "execution_count": null,
   "metadata": {},
   "outputs": [],
   "source": [
    "\"\"\"GSE36376データセットは、外科的切除または、肝移植を行った286人の原発性肝細胞がん患者について240個の肝細胞がんサンプル\n",
    "と193個の肝細胞がんに隣接した正常肝臓サンプルを対象に、マイクロアレイでRNA発現量を調べたデータセット\"\"\"\n",
    "# index_col=0でindexとして使いたい列番号を0始まりにする。\n",
    "gse_mRNA_exprs_normal_selected = pd.read_csv(\n",
    "    'GSE36376_normal.csv', index_col=0\n",
    ")\n",
    "\n",
    "gse_mRNA_exprs_tumor_selected = pd.read_csv(\n",
    "    'GSE36376_tumor.csv', index_col=0\n",
    ")\n",
    "\n"
   ]
  }
 ],
 "metadata": {
  "kernelspec": {
   "display_name": "bioinformatics-abR04bHa",
   "language": "python",
   "name": "python3"
  },
  "language_info": {
   "codemirror_mode": {
    "name": "ipython",
    "version": 3
   },
   "file_extension": ".py",
   "mimetype": "text/x-python",
   "name": "python",
   "nbconvert_exporter": "python",
   "pygments_lexer": "ipython3",
   "version": "3.10.2"
  },
  "orig_nbformat": 4
 },
 "nbformat": 4,
 "nbformat_minor": 2
}
