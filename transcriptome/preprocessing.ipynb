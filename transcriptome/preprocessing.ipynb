{
 "cells": [
  {
   "cell_type": "code",
   "execution_count": 1,
   "metadata": {},
   "outputs": [],
   "source": [
    "%matplotlib inline\n",
    "import GEOparse\n",
    "import matplotlib\n",
    "import matplotlib.pyplot as plt\n",
    "import numpy as np\n",
    "import pandas as pd\n",
    "import seaborn as sns\n",
    "\n"
   ]
  },
  {
   "cell_type": "code",
   "execution_count": 3,
   "metadata": {},
   "outputs": [
    {
     "name": "stderr",
     "output_type": "stream",
     "text": [
      "25-May-2023 00:46:20 DEBUG utils - Directory ./ already exists. Skipping.\n",
      "25-May-2023 00:46:20 INFO GEOparse - Downloading ftp://ftp.ncbi.nlm.nih.gov/geo/series/GSE36nnn/GSE36376/soft/GSE36376_family.soft.gz to ./GSE36376_family.soft.gz\n",
      "  8%|▊         | 20.9M/247M [01:07<12:10, 324kB/s]   \n",
      "25-May-2023 00:47:29 ERROR downloader - Error when quiting FTP server.\n",
      "Traceback (most recent call last):\n",
      "  File \"c:\\Users\\owner\\.virtualenvs\\bioinformatics-abR04bHa\\lib\\site-packages\\GEOparse\\downloader.py\", line 176, in _download_ftp\n",
      "    ftp.retrbinary(\"RETR %s\" % parsed_url.path, _write)\n",
      "  File \"C:\\Python310\\lib\\ftplib.py\", line 445, in retrbinary\n",
      "    return self.voidresp()\n",
      "  File \"C:\\Python310\\lib\\ftplib.py\", line 259, in voidresp\n",
      "    resp = self.getresp()\n",
      "  File \"C:\\Python310\\lib\\ftplib.py\", line 244, in getresp\n",
      "    resp = self.getmultiline()\n",
      "  File \"C:\\Python310\\lib\\ftplib.py\", line 230, in getmultiline\n",
      "    line = self.getline()\n",
      "  File \"C:\\Python310\\lib\\ftplib.py\", line 218, in getline\n",
      "    raise EOFError\n",
      "EOFError\n",
      "\n",
      "During handling of the above exception, another exception occurred:\n",
      "\n",
      "Traceback (most recent call last):\n",
      "  File \"c:\\Users\\owner\\.virtualenvs\\bioinformatics-abR04bHa\\lib\\site-packages\\GEOparse\\downloader.py\", line 180, in _download_ftp\n",
      "    ftp.quit()\n",
      "  File \"C:\\Python310\\lib\\ftplib.py\", line 659, in quit\n",
      "    resp = self.voidcmd('QUIT')\n",
      "  File \"C:\\Python310\\lib\\ftplib.py\", line 286, in voidcmd\n",
      "    return self.voidresp()\n",
      "  File \"C:\\Python310\\lib\\ftplib.py\", line 259, in voidresp\n",
      "    resp = self.getresp()\n",
      "  File \"C:\\Python310\\lib\\ftplib.py\", line 244, in getresp\n",
      "    resp = self.getmultiline()\n",
      "  File \"C:\\Python310\\lib\\ftplib.py\", line 230, in getmultiline\n",
      "    line = self.getline()\n",
      "  File \"C:\\Python310\\lib\\ftplib.py\", line 218, in getline\n",
      "    raise EOFError\n",
      "EOFError\n"
     ]
    },
    {
     "ename": "OSError",
     "evalue": "Download failed due to 'Downloaded size do not match the expected size for ftp://ftp.ncbi.nlm.nih.gov/geo/series/GSE36nnn/GSE36376/soft/GSE36376_family.soft.gz'. ID could be incorrect or the data might not be public yet.",
     "output_type": "error",
     "traceback": [
      "\u001b[1;31m---------------------------------------------------------------------------\u001b[0m",
      "\u001b[1;31mValueError\u001b[0m                                Traceback (most recent call last)",
      "File \u001b[1;32mc:\\Users\\owner\\.virtualenvs\\bioinformatics-abR04bHa\\lib\\site-packages\\GEOparse\\utils.py:80\u001b[0m, in \u001b[0;36mdownload_from_url\u001b[1;34m(url, destination_path, force, aspera, silent)\u001b[0m\n\u001b[0;32m     79\u001b[0m     \u001b[39melse\u001b[39;00m:\n\u001b[1;32m---> 80\u001b[0m         fn\u001b[39m.\u001b[39;49mdownload(silent\u001b[39m=\u001b[39;49msilent, force\u001b[39m=\u001b[39;49mforce)\n\u001b[0;32m     81\u001b[0m \u001b[39mexcept\u001b[39;00m \u001b[39mException\u001b[39;00m \u001b[39mas\u001b[39;00m err:\n",
      "File \u001b[1;32mc:\\Users\\owner\\.virtualenvs\\bioinformatics-abR04bHa\\lib\\site-packages\\GEOparse\\downloader.py:82\u001b[0m, in \u001b[0;36mDownloader.download\u001b[1;34m(self, force, silent)\u001b[0m\n\u001b[0;32m     81\u001b[0m     \u001b[39melse\u001b[39;00m:\n\u001b[1;32m---> 82\u001b[0m         _download()\n\u001b[0;32m     83\u001b[0m \u001b[39mfinally\u001b[39;00m:\n",
      "File \u001b[1;32mc:\\Users\\owner\\.virtualenvs\\bioinformatics-abR04bHa\\lib\\site-packages\\GEOparse\\downloader.py:53\u001b[0m, in \u001b[0;36mDownloader.download.<locals>._download\u001b[1;34m()\u001b[0m\n\u001b[0;32m     52\u001b[0m \u001b[39melif\u001b[39;00m \u001b[39mself\u001b[39m\u001b[39m.\u001b[39murl\u001b[39m.\u001b[39mstartswith(\u001b[39m\"\u001b[39m\u001b[39mftp\u001b[39m\u001b[39m\"\u001b[39m):\n\u001b[1;32m---> 53\u001b[0m     \u001b[39mself\u001b[39;49m\u001b[39m.\u001b[39;49m_download_ftp(silent\u001b[39m=\u001b[39;49msilent)\n\u001b[0;32m     54\u001b[0m \u001b[39melse\u001b[39;00m:\n",
      "File \u001b[1;32mc:\\Users\\owner\\.virtualenvs\\bioinformatics-abR04bHa\\lib\\site-packages\\GEOparse\\downloader.py:189\u001b[0m, in \u001b[0;36mDownloader._download_ftp\u001b[1;34m(self, silent)\u001b[0m\n\u001b[0;32m    188\u001b[0m \u001b[39mif\u001b[39;00m \u001b[39msum\u001b[39m(wrote) \u001b[39m!=\u001b[39m total_size:\n\u001b[1;32m--> 189\u001b[0m     \u001b[39mraise\u001b[39;00m \u001b[39mValueError\u001b[39;00m(\n\u001b[0;32m    190\u001b[0m         \u001b[39m\"\u001b[39m\u001b[39mDownloaded size do not match the expected size for \u001b[39m\u001b[39m%s\u001b[39;00m\u001b[39m\"\u001b[39m \u001b[39m%\u001b[39m (\u001b[39mself\u001b[39m\u001b[39m.\u001b[39murl)\n\u001b[0;32m    191\u001b[0m     )\n\u001b[0;32m    192\u001b[0m \u001b[39melse\u001b[39;00m:\n",
      "\u001b[1;31mValueError\u001b[0m: Downloaded size do not match the expected size for ftp://ftp.ncbi.nlm.nih.gov/geo/series/GSE36nnn/GSE36376/soft/GSE36376_family.soft.gz",
      "\nDuring handling of the above exception, another exception occurred:\n",
      "\u001b[1;31mOSError\u001b[0m                                   Traceback (most recent call last)",
      "\u001b[1;32mc:\\Users\\owner\\OneDrive\\デスクトップ\\bioinformatics\\transcriptome\\preprocessing.ipynb Cell 2\u001b[0m in \u001b[0;36m1\n\u001b[1;32m----> <a href='vscode-notebook-cell:/c%3A/Users/owner/OneDrive/%E3%83%87%E3%82%B9%E3%82%AF%E3%83%88%E3%83%83%E3%83%97/bioinformatics/transcriptome/preprocessing.ipynb#W1sZmlsZQ%3D%3D?line=0'>1</a>\u001b[0m gse \u001b[39m=\u001b[39m GEOparse\u001b[39m.\u001b[39mget_GEO(geo\u001b[39m=\u001b[39m\u001b[39m'\u001b[39m\u001b[39mGSE36376\u001b[39m\u001b[39m'\u001b[39m)\n",
      "File \u001b[1;32mc:\\Users\\owner\\.virtualenvs\\bioinformatics-abR04bHa\\lib\\site-packages\\GEOparse\\GEOparse.py:96\u001b[0m, in \u001b[0;36mget_GEO\u001b[1;34m(geo, filepath, destdir, how, annotate_gpl, geotype, include_data, silent, aspera, partial, open_kwargs)\u001b[0m\n\u001b[0;32m     93\u001b[0m     logger\u001b[39m.\u001b[39msetLevel(\u001b[39m100\u001b[39m)  \u001b[39m# More than critical\u001b[39;00m\n\u001b[0;32m     95\u001b[0m \u001b[39mif\u001b[39;00m filepath \u001b[39mis\u001b[39;00m \u001b[39mNone\u001b[39;00m:\n\u001b[1;32m---> 96\u001b[0m     filepath, geotype \u001b[39m=\u001b[39m get_GEO_file(\n\u001b[0;32m     97\u001b[0m         geo,\n\u001b[0;32m     98\u001b[0m         destdir\u001b[39m=\u001b[39;49mdestdir,\n\u001b[0;32m     99\u001b[0m         how\u001b[39m=\u001b[39;49mhow,\n\u001b[0;32m    100\u001b[0m         annotate_gpl\u001b[39m=\u001b[39;49mannotate_gpl,\n\u001b[0;32m    101\u001b[0m         include_data\u001b[39m=\u001b[39;49minclude_data,\n\u001b[0;32m    102\u001b[0m         silent\u001b[39m=\u001b[39;49msilent,\n\u001b[0;32m    103\u001b[0m         aspera\u001b[39m=\u001b[39;49maspera,\n\u001b[0;32m    104\u001b[0m     )\n\u001b[0;32m    105\u001b[0m \u001b[39melse\u001b[39;00m:\n\u001b[0;32m    106\u001b[0m     \u001b[39mif\u001b[39;00m geotype \u001b[39mis\u001b[39;00m \u001b[39mNone\u001b[39;00m:\n",
      "File \u001b[1;32mc:\\Users\\owner\\.virtualenvs\\bioinformatics-abR04bHa\\lib\\site-packages\\GEOparse\\GEOparse.py:263\u001b[0m, in \u001b[0;36mget_GEO_file\u001b[1;34m(geo, destdir, annotate_gpl, how, include_data, silent, aspera)\u001b[0m\n\u001b[0;32m    261\u001b[0m \u001b[39mif\u001b[39;00m \u001b[39mnot\u001b[39;00m path\u001b[39m.\u001b[39misfile(filepath):\n\u001b[0;32m    262\u001b[0m     logger\u001b[39m.\u001b[39minfo(\u001b[39m\"\u001b[39m\u001b[39mDownloading \u001b[39m\u001b[39m%s\u001b[39;00m\u001b[39m to \u001b[39m\u001b[39m%s\u001b[39;00m\u001b[39m\"\u001b[39m \u001b[39m%\u001b[39m (url, filepath))\n\u001b[1;32m--> 263\u001b[0m     utils\u001b[39m.\u001b[39;49mdownload_from_url(url, filepath, silent\u001b[39m=\u001b[39;49msilent, aspera\u001b[39m=\u001b[39;49maspera)\n\u001b[0;32m    264\u001b[0m \u001b[39melse\u001b[39;00m:\n\u001b[0;32m    265\u001b[0m     logger\u001b[39m.\u001b[39minfo(\u001b[39m\"\u001b[39m\u001b[39mFile already exist: using local version.\u001b[39m\u001b[39m\"\u001b[39m)\n",
      "File \u001b[1;32mc:\\Users\\owner\\.virtualenvs\\bioinformatics-abR04bHa\\lib\\site-packages\\GEOparse\\utils.py:82\u001b[0m, in \u001b[0;36mdownload_from_url\u001b[1;34m(url, destination_path, force, aspera, silent)\u001b[0m\n\u001b[0;32m     80\u001b[0m         fn\u001b[39m.\u001b[39mdownload(silent\u001b[39m=\u001b[39msilent, force\u001b[39m=\u001b[39mforce)\n\u001b[0;32m     81\u001b[0m \u001b[39mexcept\u001b[39;00m \u001b[39mException\u001b[39;00m \u001b[39mas\u001b[39;00m err:\n\u001b[1;32m---> 82\u001b[0m     \u001b[39mraise\u001b[39;00m \u001b[39mIOError\u001b[39;00m(\n\u001b[0;32m     83\u001b[0m         \u001b[39m\"\u001b[39m\u001b[39mDownload failed due to \u001b[39m\u001b[39m'\u001b[39m\u001b[39m%s\u001b[39;00m\u001b[39m'\u001b[39m\u001b[39m. ID could be incorrect or the \u001b[39m\u001b[39m\"\u001b[39m \u001b[39m%\u001b[39m err\n\u001b[0;32m     84\u001b[0m         \u001b[39m+\u001b[39m \u001b[39m\"\u001b[39m\u001b[39mdata might not be public yet.\u001b[39m\u001b[39m\"\u001b[39m\n\u001b[0;32m     85\u001b[0m     )\n",
      "\u001b[1;31mOSError\u001b[0m: Download failed due to 'Downloaded size do not match the expected size for ftp://ftp.ncbi.nlm.nih.gov/geo/series/GSE36nnn/GSE36376/soft/GSE36376_family.soft.gz'. ID could be incorrect or the data might not be public yet."
     ]
    }
   ],
   "source": [
    "gse = GEOparse.get_GEO(geo='GSE36376') # ncbiのGene Expression Omnibusから情報を取得してくる。"
   ]
  }
 ],
 "metadata": {
  "kernelspec": {
   "display_name": "bioinformatics-abR04bHa",
   "language": "python",
   "name": "python3"
  },
  "language_info": {
   "codemirror_mode": {
    "name": "ipython",
    "version": 3
   },
   "file_extension": ".py",
   "mimetype": "text/x-python",
   "name": "python",
   "nbconvert_exporter": "python",
   "pygments_lexer": "ipython3",
   "version": "3.10.2"
  },
  "orig_nbformat": 4
 },
 "nbformat": 4,
 "nbformat_minor": 2
}
