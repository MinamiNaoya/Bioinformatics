{
 "cells": [
  {
   "cell_type": "code",
   "execution_count": 2,
   "metadata": {},
   "outputs": [],
   "source": [
    "%matplotlib inline\n",
    "import os\n",
    "import urllib.request\n"
   ]
  },
  {
   "cell_type": "code",
   "execution_count": 3,
   "metadata": {},
   "outputs": [],
   "source": [
    "import numpy as np\n",
    "import pandas as pd\n",
    "import torch\n",
    "import torch.utils.data as data\n",
    "import torch.nn as nn\n",
    "import torch.nn.functional\n",
    "import torch.optim\n",
    "from sklearn.metrics import accuracy_score\n",
    "from torchmetrics.functional import precision_recall\n",
    "import matplotlib\n",
    "import matplotlib.pyplot as plt\n",
    "import Bio\n",
    "from Bio.Seq import Seq"
   ]
  },
  {
   "cell_type": "code",
   "execution_count": 4,
   "metadata": {},
   "outputs": [
    {
     "name": "stdout",
     "output_type": "stream",
     "text": [
      " 野生型RNA配列: ..GCATGCTGCATGCATGATGCCATGCATGCTGCATGCTGCATG..\n",
      "腫瘍特異的蛋白質配列: ..GCATGCTGCATGCATGATGCCACGCATGCTGCATGCTGCATG..\n",
      " 野生型タンパク質配列: ..ACCMHDAMHAACCM..\n",
      "腫瘍特異的タンパク質配列: ..ACCMHDATHAACCM..\n"
     ]
    }
   ],
   "source": [
    "normal_rna = Seq(\"GCATGCTGCATGCATGATGCCATGCATGCTGCATGCTGCATG\")\n",
    "tumor_rna =  Seq(\"GCATGCTGCATGCATGATGCCACGCATGCTGCATGCTGCATG\")\n",
    "\n",
    "print(\" 野生型RNA配列: ..\" + str(normal_rna) + \"..\")\n",
    "print(\"腫瘍特異的蛋白質配列: ..\" + str(tumor_rna) + \"..\")\n",
    "\n",
    "print(\" 野生型タンパク質配列: ..\" + str(normal_rna.translate()) + \"..\")\n",
    "print(\"腫瘍特異的タンパク質配列: ..\" + str(tumor_rna.translate()) + \"..\")\n",
    "\"\"\"\n",
    "vcf ファイル上のすべての変異に対して、\n",
    "変異ペプチドのリストを網羅的に作成すると同時に、\n",
    "野生型タンパク質配列と比較し、\n",
    "野生型タンパク質配列にその断片が含まれないことを確認するという手順を実施して\n",
    "個々の腫瘍が有する体細胞変異や挿入欠失に基づいた、発現しうる腫瘍特異的ペプチドのリストを作成する。\n",
    "\"\"\""
   ]
  },
  {
   "cell_type": "code",
   "execution_count": 5,
   "metadata": {},
   "outputs": [
    {
     "data": {
      "text/plain": [
       "<bound method NDFrame.head of       Peptide      HLA  BindingCategory\n",
       "0   GTFGGLGSK  A*03:01                1\n",
       "1   TTQDPLSNK  A*03:01                1\n",
       "2  TVAGGAWTYK  A*03:01                1\n",
       "3  FVYDHVFAEK  A*03:01                1\n",
       "4   KVTEWQQTY  A*03:01                1>"
      ]
     },
     "execution_count": 5,
     "metadata": {},
     "output_type": "execute_result"
    }
   ],
   "source": [
    "data_dir = './pepdata/'\n",
    "if not os.path.exists(data_dir):\n",
    "    os.mkdir(data_dir)\n",
    "    \n",
    "train_url = 'https://github.com/haoqing12/APPM/raw/master/DATA/train_data/A0301'\n",
    "test_url = 'https://github.com/haoqing12/APPM/raw/master/DATA/test_data/A0301'\n",
    "\n",
    "\n",
    "train_save_path = os.path.join(data_dir, 'train_A0301.csv')\n",
    "test_save_path = os.path.join(data_dir, 'test_A0301.csv')\n",
    "\n",
    "urllib.request.urlretrieve(train_url, train_save_path)\n",
    "urllib.request.urlretrieve(test_url, test_save_path)\n",
    "\n",
    "pd.read_csv(train_save_path, nrows=5).head\n",
    "\n"
   ]
  },
  {
   "cell_type": "code",
   "execution_count": 6,
   "metadata": {},
   "outputs": [],
   "source": [
    "class PepTransform():\n",
    "    allSequences = 'ACEDGFIHKMLNQPSRTWVYZ'\n",
    "    char2int = dict((c, i) for i, c in enumerate(allSequences)) # Add index to amino seq\n",
    "    \n",
    "    def peptideOneHotMap(self, peptide):\n",
    "        peptide_integer = [self.char2int[char] for char in peptide] # convert peptide(str) to int \n",
    "        peptide_onehot = list() # peptide seq in Onehot vector format\n",
    "        for value in peptide_integer:\n",
    "            letter = [0 for _ in range(len(self.allSequences))]\n",
    "            \n",
    "            letter[value] = 1\n",
    "            peptide_onehot.append(letter)\n",
    "            \n",
    "        return np.asarray(peptide_onehot)\n",
    "        \n",
    "    def __init__(self):\n",
    "        '''\n",
    "        initialize instance variable\n",
    "        '''\n",
    "        \n",
    "    def __call__(self, peptide):\n",
    "        return self.peptideOneHotMap(peptide)\n",
    "        "
   ]
  },
  {
   "cell_type": "code",
   "execution_count": null,
   "metadata": {},
   "outputs": [],
   "source": []
  }
 ],
 "metadata": {
  "kernelspec": {
   "display_name": "bioinformatics-abR04bHa",
   "language": "python",
   "name": "python3"
  },
  "language_info": {
   "codemirror_mode": {
    "name": "ipython",
    "version": 3
   },
   "file_extension": ".py",
   "mimetype": "text/x-python",
   "name": "python",
   "nbconvert_exporter": "python",
   "pygments_lexer": "ipython3",
   "version": "3.10.2"
  },
  "orig_nbformat": 4
 },
 "nbformat": 4,
 "nbformat_minor": 2
}
